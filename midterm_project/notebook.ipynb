{
 "cells": [
  {
   "cell_type": "markdown",
   "id": "f9be46f7",
   "metadata": {},
   "source": [
    "# Test"
   ]
  },
  {
   "cell_type": "markdown",
   "id": "1f0cc375",
   "metadata": {},
   "source": [
    "## Table of Contents\n",
    "\n",
    "- [Section 1](#section_id_1)\n",
    "- [Section 2](#section_id_2)\n",
    "- [Section 3](#section_id_3)"
   ]
  },
  {
   "cell_type": "markdown",
   "id": "332cd3e7",
   "metadata": {},
   "source": [
    "## <a id='section_id_1'></a> Section Title"
   ]
  },
  {
   "cell_type": "code",
   "execution_count": null,
   "id": "62930d49",
   "metadata": {},
   "outputs": [],
   "source": []
  }
 ],
 "metadata": {
  "celltoolbar": "Отсутствует",
  "kernelspec": {
   "display_name": "Python 3 (ipykernel)",
   "language": "python",
   "name": "python3"
  },
  "language_info": {
   "codemirror_mode": {
    "name": "ipython",
    "version": 3
   },
   "file_extension": ".py",
   "mimetype": "text/x-python",
   "name": "python",
   "nbconvert_exporter": "python",
   "pygments_lexer": "ipython3",
   "version": "3.9.13"
  },
  "toc": {
   "base_numbering": 1,
   "nav_menu": {
    "height": "77px",
    "width": "202px"
   },
   "number_sections": true,
   "sideBar": true,
   "skip_h1_title": false,
   "title_cell": "Table of Contents",
   "title_sidebar": "Contents",
   "toc_cell": false,
   "toc_position": {},
   "toc_section_display": true,
   "toc_window_display": false
  }
 },
 "nbformat": 4,
 "nbformat_minor": 5
}
