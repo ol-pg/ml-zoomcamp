{
 "cells": [
  {
   "cell_type": "code",
   "execution_count": 4,
   "id": "6a25f4bc",
   "metadata": {},
   "outputs": [],
   "source": [
    "import pandas as pd\n",
    "import numpy as np\n",
    "import seaborn as sns"
   ]
  },
  {
   "cell_type": "markdown",
   "id": "39c31311",
   "metadata": {},
   "source": [
    "### EDA"
   ]
  },
  {
   "cell_type": "code",
   "execution_count": 30,
   "id": "89d7032c",
   "metadata": {},
   "outputs": [],
   "source": [
    "df = pd.read_csv('housing.csv')"
   ]
  },
  {
   "cell_type": "code",
   "execution_count": 31,
   "id": "6be638b6",
   "metadata": {},
   "outputs": [
    {
     "data": {
      "text/plain": [
       "<Axes: xlabel='median_house_value', ylabel='Count'>"
      ]
     },
     "execution_count": 31,
     "metadata": {},
     "output_type": "execute_result"
    },
    {
     "data": {
      "image/png": "[encoded data removed]",
      "text/plain": [
       "<Figure size 640x480 with 1 Axes>"
      ]
     },
     "metadata": {},
     "output_type": "display_data"
    }
   ],
   "source": [
    "sns.histplot(df.median_house_value, bins=50)"
   ]
  },
  {
   "cell_type": "markdown",
   "id": "3f72403b",
   "metadata": {},
   "source": [
    "### Preparing the dataset"
   ]
  },
  {
   "cell_type": "code",
   "execution_count": 32,
   "id": "888c01f2",
   "metadata": {},
   "outputs": [],
   "source": [
    "df = df[(df['ocean_proximity'] == '<1H OCEAN') | (df['ocean_proximity'] == 'INLAND')]"
   ]
  },
  {
   "cell_type": "code",
   "execution_count": 33,
   "id": "f8a4d3b9",
   "metadata": {},
   "outputs": [],
   "source": [
    "features = ['latitude',\n",
    "            'longitude',\n",
    "            'housing_median_age',\n",
    "            'total_rooms',\n",
    "            'total_bedrooms',\n",
    "            'population',\n",
    "            'households',\n",
    "            'median_income',\n",
    "            'median_house_value']"
   ]
  },
  {
   "cell_type": "code",
   "execution_count": 34,
   "id": "1f71715f",
   "metadata": {},
   "outputs": [],
   "source": [
    "df = df[features]"
   ]
  },
  {
   "cell_type": "code",
   "execution_count": 35,
   "id": "6534be95",
   "metadata": {},
   "outputs": [
    {
     "data": {
      "text/html": [
       "<div>\n",
       "<style scoped>\n",
       "    .dataframe tbody tr th:only-of-type {\n",
       "        vertical-align: middle;\n",
       "    }\n",
       "\n",
       "    .dataframe tbody tr th {\n",
       "        vertical-align: top;\n",
       "    }\n",
       "\n",
       "    .dataframe thead th {\n",
       "        text-align: right;\n",
       "    }\n",
       "</style>\n",
       "<table border=\"1\" class=\"dataframe\">\n",
       "  <thead>\n",
       "    <tr style=\"text-align: right;\">\n",
       "      <th></th>\n",
       "      <th>latitude</th>\n",
       "      <th>longitude</th>\n",
       "      <th>housing_median_age</th>\n",
       "      <th>total_rooms</th>\n",
       "      <th>total_bedrooms</th>\n",
       "      <th>population</th>\n",
       "      <th>households</th>\n",
       "      <th>median_income</th>\n",
       "      <th>median_house_value</th>\n",
       "    </tr>\n",
       "  </thead>\n",
       "  <tbody>\n",
       "    <tr>\n",
       "      <th>701</th>\n",
       "      <td>37.64</td>\n",
       "      <td>-121.97</td>\n",
       "      <td>32.0</td>\n",
       "      <td>1283.0</td>\n",
       "      <td>194.0</td>\n",
       "      <td>485.0</td>\n",
       "      <td>171.0</td>\n",
       "      <td>6.0574</td>\n",
       "      <td>431000.0</td>\n",
       "    </tr>\n",
       "    <tr>\n",
       "      <th>830</th>\n",
       "      <td>37.61</td>\n",
       "      <td>-121.99</td>\n",
       "      <td>9.0</td>\n",
       "      <td>3666.0</td>\n",
       "      <td>711.0</td>\n",
       "      <td>2341.0</td>\n",
       "      <td>703.0</td>\n",
       "      <td>4.6458</td>\n",
       "      <td>217000.0</td>\n",
       "    </tr>\n",
       "    <tr>\n",
       "      <th>859</th>\n",
       "      <td>37.57</td>\n",
       "      <td>-121.97</td>\n",
       "      <td>21.0</td>\n",
       "      <td>4342.0</td>\n",
       "      <td>783.0</td>\n",
       "      <td>2172.0</td>\n",
       "      <td>789.0</td>\n",
       "      <td>4.6146</td>\n",
       "      <td>247600.0</td>\n",
       "    </tr>\n",
       "    <tr>\n",
       "      <th>860</th>\n",
       "      <td>37.58</td>\n",
       "      <td>-121.96</td>\n",
       "      <td>15.0</td>\n",
       "      <td>3575.0</td>\n",
       "      <td>597.0</td>\n",
       "      <td>1777.0</td>\n",
       "      <td>559.0</td>\n",
       "      <td>5.7192</td>\n",
       "      <td>283500.0</td>\n",
       "    </tr>\n",
       "    <tr>\n",
       "      <th>861</th>\n",
       "      <td>37.58</td>\n",
       "      <td>-121.98</td>\n",
       "      <td>20.0</td>\n",
       "      <td>4126.0</td>\n",
       "      <td>1031.0</td>\n",
       "      <td>2079.0</td>\n",
       "      <td>975.0</td>\n",
       "      <td>3.6832</td>\n",
       "      <td>216900.0</td>\n",
       "    </tr>\n",
       "  </tbody>\n",
       "</table>\n",
       "</div>"
      ],
      "text/plain": [
       "     latitude  longitude  housing_median_age  total_rooms  total_bedrooms  \\\n",
       "701     37.64    -121.97                32.0       1283.0           194.0   \n",
       "830     37.61    -121.99                 9.0       3666.0           711.0   \n",
       "859     37.57    -121.97                21.0       4342.0           783.0   \n",
       "860     37.58    -121.96                15.0       3575.0           597.0   \n",
       "861     37.58    -121.98                20.0       4126.0          1031.0   \n",
       "\n",
       "     population  households  median_income  median_house_value  \n",
       "701       485.0       171.0         6.0574            431000.0  \n",
       "830      2341.0       703.0         4.6458            217000.0  \n",
       "859      2172.0       789.0         4.6146            247600.0  \n",
       "860      1777.0       559.0         5.7192            283500.0  \n",
       "861      2079.0       975.0         3.6832            216900.0  "
      ]
     },
     "execution_count": 35,
     "metadata": {},
     "output_type": "execute_result"
    }
   ],
   "source": [
    "df.head()"
   ]
  },
  {
   "cell_type": "markdown",
   "id": "1cbb3eb2",
   "metadata": {},
   "source": [
    "### Question 1: There's one feature with missing values. What is it?"
   ]
  },
  {
   "cell_type": "code",
   "execution_count": 36,
   "id": "87131610",
   "metadata": {},
   "outputs": [
    {
     "data": {
      "text/plain": [
       "latitude                0\n",
       "longitude               0\n",
       "housing_median_age      0\n",
       "total_rooms             0\n",
       "total_bedrooms        157\n",
       "population              0\n",
       "households              0\n",
       "median_income           0\n",
       "median_house_value      0\n",
       "dtype: int64"
      ]
     },
     "execution_count": 36,
     "metadata": {},
     "output_type": "execute_result"
    }
   ],
   "source": [
    "df.isnull().sum()"
   ]
  },
  {
   "cell_type": "markdown",
   "id": "b71418ac",
   "metadata": {},
   "source": [
    "### Question 2: What's the median (50% percentile) for variable 'population'?"
   ]
  },
  {
   "cell_type": "code",
   "execution_count": 37,
   "id": "1b0b3db0",
   "metadata": {},
   "outputs": [
    {
     "data": {
      "text/plain": [
       "count    15687.000000\n",
       "mean      1466.317205\n",
       "std       1180.389908\n",
       "min          3.000000\n",
       "25%        802.000000\n",
       "50%       1195.000000\n",
       "75%       1777.000000\n",
       "max      35682.000000\n",
       "Name: population, dtype: float64"
      ]
     },
     "execution_count": 37,
     "metadata": {},
     "output_type": "execute_result"
    }
   ],
   "source": [
    "df.population.describe()"
   ]
  },
  {
   "cell_type": "markdown",
   "id": "e69184b2",
   "metadata": {},
   "source": [
    "### Prepare and split the dataset\n",
    "Shuffle the dataset (the filtered one you created above), use seed 42.\n",
    "\n",
    "Split your data in train/val/test sets, with 60%/20%/20% distribution.\n",
    "\n",
    "Apply the log transformation to the median_house_value variable using the np.log1p() function."
   ]
  },
  {
   "cell_type": "code",
   "execution_count": 38,
   "id": "e04a02ec",
   "metadata": {},
   "outputs": [
    {
     "name": "stdout",
     "output_type": "stream",
     "text": [
      "n_train: 9413, n_val: 3137, n_test: 3137\n"
     ]
    }
   ],
   "source": [
    "n = len(df)\n",
    "\n",
    "n_val = int(n * 0.2)\n",
    "n_test = int(n * 0.2)\n",
    "n_train = n - n_val - n_test\n",
    "\n",
    "idx = np.arange(n)\n",
    "np.random.seed(42)\n",
    "np.random.shuffle(idx)\n",
    "print(f\"n_train: {n_train}, n_val: {n_val}, n_test: {n_test}\")"
   ]
  },
  {
   "cell_type": "code",
   "execution_count": 39,
   "id": "6a43e23f",
   "metadata": {},
   "outputs": [],
   "source": [
    "df['median_house_value'] = np.log1p(df['median_house_value'])\n",
    "data_train = df.iloc[idx[:n_train]]\n",
    "data_val = df.iloc[idx[n_train:n_train+n_val]]\n",
    "data_test = df.iloc[idx[n_train+n_val:]]\n",
    "\n",
    "data_train = data_train.reset_index(drop=True)\n",
    "data_val = data_val.reset_index(drop=True)\n",
    "data_test = data_test.reset_index(drop=True)"
   ]
  },
  {
   "cell_type": "code",
   "execution_count": 40,
   "id": "7b34b7c9",
   "metadata": {},
   "outputs": [],
   "source": [
    "y_train = data_train.median_house_value.values\n",
    "y_val = data_val.median_house_value.values\n",
    "y_test = data_test.median_house_value.values"
   ]
  },
  {
   "cell_type": "code",
   "execution_count": 41,
   "id": "6922c9ce",
   "metadata": {},
   "outputs": [],
   "source": [
    "del data_train['median_house_value']\n",
    "del data_val['median_house_value']\n",
    "del data_test['median_house_value']"
   ]
  },
  {
   "cell_type": "code",
   "execution_count": 42,
   "id": "d176aee4",
   "metadata": {},
   "outputs": [
    {
     "data": {
      "text/plain": [
       "<Axes: ylabel='Count'>"
      ]
     },
     "execution_count": 42,
     "metadata": {},
     "output_type": "execute_result"
    },
    {
     "data": {
      "image/png": "[encoded data removed]",
      "text/plain": [
       "<Figure size 640x480 with 1 Axes>"
      ]
     },
     "metadata": {},
     "output_type": "display_data"
    }
   ],
   "source": [
    "sns.histplot(y_train, bins=50)"
   ]
  },
  {
   "cell_type": "markdown",
   "id": "b7e71045",
   "metadata": {},
   "source": [
    "### Question 3\n",
    "- We need to deal with missing values for the column from Q1.\n",
    "- We have two options: fill it with 0 or with the mean of this variable.\n",
    "- Try both options. For each, train a linear regression model without regularization using the code from the lessons.\n",
    "- For computing the mean, use the training only!\n",
    "- Use the validation dataset to evaluate the models and compare the RMSE of each option.\n",
    "- Round the RMSE scores to 2 decimal digits using round(score, 2)\n",
    "- Which option gives better RMSE?\n",
    "\n",
    "Options:\n",
    "\n",
    "- With 0\n",
    "- With mean\n",
    "- Both are equally good"
   ]
  },
  {
   "cell_type": "code",
   "execution_count": 47,
   "id": "7dbd755c",
   "metadata": {},
   "outputs": [],
   "source": [
    "total_bedrooms_mean_value = data_train.total_bedrooms.mean()"
   ]
  },
  {
   "cell_type": "code",
   "execution_count": 48,
   "id": "09d7bb87",
   "metadata": {},
   "outputs": [
    {
     "data": {
      "text/plain": [
       "array([[ 3.6230e+01, -1.1914e+02,  2.2000e+01, ...,  1.9270e+03,\n",
       "         5.3000e+02,  2.5875e+00],\n",
       "       [ 3.4120e+01, -1.1779e+02,  1.6000e+01, ...,  1.3190e+03,\n",
       "         4.4600e+02,  4.8125e+00],\n",
       "       [ 3.3680e+01, -1.1797e+02,  2.6000e+01, ...,  1.9300e+03,\n",
       "         5.8500e+02,  5.7301e+00],\n",
       "       ...,\n",
       "       [ 3.4130e+01, -1.1808e+02,  4.6000e+01, ...,  3.7700e+02,\n",
       "         1.4500e+02,  8.4546e+00],\n",
       "       [ 3.4290e+01, -1.1846e+02,  2.4000e+01, ...,  3.1510e+03,\n",
       "         8.1000e+02,  3.0526e+00],\n",
       "       [ 3.4000e+01, -1.1841e+02,  1.8000e+01, ...,  8.8400e+02,\n",
       "         4.5600e+02,  2.9338e+00]])"
      ]
     },
     "execution_count": 48,
     "metadata": {},
     "output_type": "execute_result"
    }
   ],
   "source": [
    "def prepare_data(df, replace_value=None):\n",
    "    df_temp = df.copy()\n",
    "    if replace_value is None:\n",
    "        X = df_temp.values\n",
    "    else:\n",
    "        df_temp['total_bedrooms'] = df_temp['total_bedrooms'].fillna(replace_value)\n",
    "        X = df_temp.values\n",
    "    return X\n",
    "    \n",
    "prepare_data(data_train, total_bedrooms_mean_value)"
   ]
  },
  {
   "cell_type": "code",
   "execution_count": 49,
   "id": "9bcf6dac",
   "metadata": {},
   "outputs": [],
   "source": [
    "def train_linear_regression(X, y):\n",
    "    ones = np.ones(X.shape[0])\n",
    "    X = np.column_stack([ones, X])\n",
    "\n",
    "    XTX = X.T.dot(X)\n",
    "    XTX_inv = np.linalg.inv(XTX)\n",
    "    w_full = XTX_inv.dot(X.T).dot(y)\n",
    "    \n",
    "    return w_full[0], w_full[1:]\n",
    "\n",
    "def rmse(y, y_pred):\n",
    "    se = (y - y_pred) ** 2\n",
    "    mse = se.mean()\n",
    "    return np.sqrt(mse)"
   ]
  },
  {
   "cell_type": "markdown",
   "id": "fe678ad9",
   "metadata": {},
   "source": [
    "#### Options\n",
    "- With 0"
   ]
  },
  {
   "cell_type": "code",
   "execution_count": 52,
   "id": "bd3539db",
   "metadata": {},
   "outputs": [
    {
     "data": {
      "text/plain": [
       "0.34"
      ]
     },
     "execution_count": 52,
     "metadata": {},
     "output_type": "execute_result"
    }
   ],
   "source": [
    "X_train = prepare_data(data_train, 0)\n",
    "w0, w = train_linear_regression(X_train, y_train)\n",
    "\n",
    "X_val = prepare_data(data_val, 0)\n",
    "y_pred = w0 + X_val.dot(w)\n",
    "round(rmse(y_val, y_pred), 2)"
   ]
  },
  {
   "cell_type": "markdown",
   "id": "10c1009c",
   "metadata": {},
   "source": [
    "- With mean"
   ]
  },
  {
   "cell_type": "code",
   "execution_count": 53,
   "id": "0c43ba18",
   "metadata": {},
   "outputs": [
    {
     "data": {
      "text/plain": [
       "0.34"
      ]
     },
     "execution_count": 53,
     "metadata": {},
     "output_type": "execute_result"
    }
   ],
   "source": [
    "X_train = prepare_data(data_train, total_bedrooms_mean_value)\n",
    "w0, w = train_linear_regression(X_train, y_train)\n",
    "\n",
    "X_val = prepare_data(data_val, total_bedrooms_mean_value)\n",
    "y_pred = w0 + X_val.dot(w)\n",
    "round(rmse(y_val, y_pred), 2)"
   ]
  },
  {
   "cell_type": "markdown",
   "id": "fd61908d",
   "metadata": {},
   "source": [
    "### Question 4\n",
    "- Now let's train a regularized linear regression.\n",
    "- For this question, fill the NAs with 0.\n",
    "- Try different values of r from this list: [0, 0.000001, 0.0001, 0.001, 0.01, 0.1, 1, 5, 10].\n",
    "- Use RMSE to evaluate the model on the validation dataset.\n",
    "- Round the RMSE scores to 2 decimal digits.\n",
    "- Which r gives the best RMSE?\n",
    "- If there are multiple options, select the smallest r.\n",
    "\n",
    "Options:\n",
    "\n",
    "- 0\n",
    "- 0.000001\n",
    "- 0.001\n",
    "- 0.0001"
   ]
  },
  {
   "cell_type": "code",
   "execution_count": 54,
   "id": "07a4dfa6",
   "metadata": {},
   "outputs": [
    {
     "name": "stdout",
     "output_type": "stream",
     "text": [
      "0 -9.763249477638553 0.34\n",
      "1e-06 -9.76322883076761 0.34\n",
      "0.0001 -9.761185235494285 0.34\n",
      "0.001 -9.742646249238595 0.34\n",
      "0.01 -9.56105619262636 0.34\n",
      "0.1 -8.05888976905374 0.34\n",
      "1 -3.1331542783425084 0.34\n",
      "5 -0.8410867975245594 0.35\n",
      "10 -0.4381172315887051 0.35\n"
     ]
    }
   ],
   "source": [
    "def train_linear_regression_reg(X, y, r=0.001):\n",
    "    ones = np.ones(X.shape[0])\n",
    "    X = np.column_stack([ones, X])\n",
    "    XTX = X.T.dot(X)\n",
    "    XTX = XTX + r * np.eye(XTX.shape[0])\n",
    "    XTX_inv = np.linalg.inv(XTX)\n",
    "    w_full = XTX_inv.dot(X.T).dot(y)\n",
    "    \n",
    "    return w_full[0], w_full[1:]\n",
    "\n",
    "for r in [0, 0.000001, 0.0001, 0.001, 0.01, 0.1, 1, 5, 10]:\n",
    "    X_train = data_train.fillna(0).values\n",
    "    w0, w = train_linear_regression_reg(X_train, y_train, r=r)\n",
    "\n",
    "    X_val = data_val.fillna(0).values\n",
    "    y_pred = w0 + X_val.dot(w)\n",
    "    score = rmse(y_val, y_pred).round(2)\n",
    "    \n",
    "    print(r, w0, score)"
   ]
  },
  {
   "cell_type": "markdown",
   "id": "c6567f59",
   "metadata": {},
   "source": [
    "### Question 5\n",
    "- We used seed 42 for splitting the data. Let's find out how selecting the seed influences our score.\n",
    "- Try different seed values: [0, 1, 2, 3, 4, 5, 6, 7, 8, 9].\n",
    "- For each seed, do the train/validation/test split with 60%/20%/20% distribution.\n",
    "- Fill the missing values with 0 and train a model without regularization.\n",
    "- For each seed, evaluate the model on the validation dataset and collect the RMSE scores.\n",
    "- What's the standard deviation of all the scores? To compute the standard deviation, use np.std.\n",
    "- Round the result to 3 decimal digits (round(std, 3))\n",
    "\n",
    "What's the value of std?\n",
    "- 0.5\n",
    "- 0.05\n",
    "- 0.005\n",
    "- 0.0005\n",
    "\n",
    "Note: Standard deviation shows how different the values are. If it's low, then all values are approximately the same. If it's high, the values are different. If standard deviation of scores is low, then our model is stable."
   ]
  },
  {
   "cell_type": "code",
   "execution_count": 62,
   "id": "1226bfb8",
   "metadata": {},
   "outputs": [
    {
     "name": "stdout",
     "output_type": "stream",
     "text": [
      "0.006\n"
     ]
    }
   ],
   "source": [
    "scores = []\n",
    "\n",
    "n = len(df)\n",
    "n_val = int(n * 0.2)\n",
    "n_test = int(n * 0.2)\n",
    "n_train = n - n_val - n_test\n",
    "idx = np.arange(n)\n",
    "\n",
    "for seed in range(10):\n",
    "    np.random.seed(seed)\n",
    "    np.random.shuffle(idx)\n",
    "    \n",
    "    df_train = df.iloc[idx[:n_train]]\n",
    "    df_val = df.iloc[idx[n_train:n_train+n_val]]\n",
    "    df_test = df.iloc[idx[n_train+n_val:]]\n",
    "\n",
    "    df_train = df_train.reset_index(drop=True)\n",
    "    df_val = df_val.reset_index(drop=True)\n",
    "    df_test = df_test.reset_index(drop=True)\n",
    "\n",
    "    y_train = df_train.median_house_value.values\n",
    "    y_val = df_val.median_house_value.values\n",
    "    y_test = df_test.median_house_value.values\n",
    "\n",
    "    del df_train['median_house_value']\n",
    "    del df_val['median_house_value']\n",
    "    del df_test['median_house_value']\n",
    "    \n",
    "    X_train = prepare_data(df_train, 0)\n",
    "    w0, w = train_linear_regression(X_train, y_train)\n",
    "\n",
    "    X_val = prepare_data(df_val, 0)\n",
    "    y_pred = w0 + X_val.dot(w)\n",
    "    scores.append(rmse(y_val, y_pred))\n",
    "    \n",
    "print(np.std(scores).round(3))"
   ]
  },
  {
   "cell_type": "markdown",
   "id": "4d74df68",
   "metadata": {},
   "source": [
    "### Question 6\n",
    "- Split the dataset like previously, use seed 9.\n",
    "- Combine train and validation datasets.\n",
    "- Fill the missing values with 0 and train a model with r=0.001.\n",
    "- What's the RMSE on the test dataset?\n",
    "\n",
    "Options:\n",
    "- 0.13\n",
    "- 0.23\n",
    "- 0.33\n",
    "- 0.43"
   ]
  },
  {
   "cell_type": "code",
   "execution_count": 64,
   "id": "fb8c0c25",
   "metadata": {},
   "outputs": [
    {
     "data": {
      "text/plain": [
       "0.33"
      ]
     },
     "execution_count": 64,
     "metadata": {},
     "output_type": "execute_result"
    }
   ],
   "source": [
    "idx = np.arange(n)\n",
    "np.random.seed(9)\n",
    "np.random.shuffle(idx)\n",
    "\n",
    "data_train = df.iloc[idx[:n_train]]\n",
    "data_val = df.iloc[idx[n_train:n_train+n_val]]\n",
    "data_test = df.iloc[idx[n_train+n_val:]]\n",
    "\n",
    "data_train = data_train.reset_index(drop=True)\n",
    "data_val = data_val.reset_index(drop=True)\n",
    "data_test = data_test.reset_index(drop=True)\n",
    "\n",
    "y_train = data_train.median_house_value.values\n",
    "y_val = data_val.median_house_value.values\n",
    "y_test = data_test.median_house_value.values\n",
    "\n",
    "del data_train['median_house_value']\n",
    "del data_val['median_house_value']\n",
    "del data_test['median_house_value']\n",
    "\n",
    "data_full_train = pd.concat([data_train, data_val])\n",
    "data_full_train = data_full_train.fillna(0).values\n",
    "y_full_train = np.concatenate([y_train, y_val])\n",
    "\n",
    "w0, w = train_linear_regression_reg(data_full_train, y_full_train, r=0.001)\n",
    "\n",
    "data_test = data_test.fillna(0).values\n",
    "y_pred = w0 + data_test.dot(w)\n",
    "rmse(y_test, y_pred).round(2)"
   ]
  },
  {
   "cell_type": "code",
   "execution_count": null,
   "id": "93eee5e9",
   "metadata": {},
   "outputs": [],
   "source": []
  }
 ],
 "metadata": {
  "kernelspec": {
   "display_name": "Python 3 (ipykernel)",
   "language": "python",
   "name": "python3"
  },
  "language_info": {
   "codemirror_mode": {
    "name": "ipython",
    "version": 3
   },
   "file_extension": ".py",
   "mimetype": "text/x-python",
   "name": "python",
   "nbconvert_exporter": "python",
   "pygments_lexer": "ipython3",
   "version": "3.9.18"
  }
 },
 "nbformat": 4,
 "nbformat_minor": 5
}
